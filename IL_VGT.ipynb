{
  "nbformat": 4,
  "nbformat_minor": 0,
  "metadata": {
    "colab": {
      "provenance": [],
      "authorship_tag": "ABX9TyMl5waOEQf9Q48y0qX4h3ae",
      "include_colab_link": true
    },
    "kernelspec": {
      "name": "python3",
      "display_name": "Python 3"
    },
    "language_info": {
      "name": "python"
    }
  },
  "cells": [
    {
      "cell_type": "markdown",
      "metadata": {
        "id": "view-in-github",
        "colab_type": "text"
      },
      "source": [
        "<a href=\"https://colab.research.google.com/github/hawkeyedatatsai/How-Pandemic-impacts-IL-VGT/blob/main/IL_VGT.ipynb\" target=\"_parent\"><img src=\"https://colab.research.google.com/assets/colab-badge.svg\" alt=\"Open In Colab\"/></a>"
      ]
    },
    {
      "cell_type": "markdown",
      "source": [
        "#What is VGT in the state of Illinois?"
      ],
      "metadata": {
        "id": "0HO5uR5NxT7a"
      }
    },
    {
      "cell_type": "markdown",
      "source": [
        "Per the [Illinois Video Gaming Act](https://ilga.gov/legislation/ilcs/ilcs4.asp?DocName=023000400HArt%2E+5&ActID=3095&ChapterID=25&SeqStart=100000&SeqEnd=1950000), a “VGT” (Video Gaming Terminal) is an electronic video gaming machine that plays or simulates the play of a video game authorized by the Illinois Gaming Board, upon the insertion of cash. It is considered a great add on revenue for most of business who are licensed to host VGT."
      ],
      "metadata": {
        "id": "gKSjOuiZ0H-D"
      }
    },
    {
      "cell_type": "markdown",
      "source": [
        "#Covid-19 Pandemic"
      ],
      "metadata": {
        "id": "r20hfrAmxrzy"
      }
    },
    {
      "cell_type": "markdown",
      "source": [
        "- [Coronavirus disease 2019 (COVID-19)](https://en.wikipedia.org/wiki/COVID-19#History) is a contagious disease caused by a virus called the severe acute respiratory syndrome coronavirus 2 (SARS-CoV-2). The disease quickly spread worldwide from early 2020, resulting in the COVID-19 pandemic.\n",
        "\n",
        "- Due to the COVID-19 crisis, video gaming operations were suspended March 16, 2020 - June 30, 2020 and November 20, 2020 - January 16, 2021. More info can be found through [here](https://www.accelentertainment.com/blog/how-covid-19-is-affecting-the-video-gaming-industry)."
      ],
      "metadata": {
        "id": "FgeRIQVn1YRr"
      }
    },
    {
      "cell_type": "markdown",
      "source": [
        "# Research Topic: How does Pandemic affects VGT sales"
      ],
      "metadata": {
        "id": "LHMYOwWmynQL"
      }
    },
    {
      "cell_type": "code",
      "execution_count": null,
      "metadata": {
        "id": "y_az6WJ_xQ8m"
      },
      "outputs": [],
      "source": []
    }
  ]
}